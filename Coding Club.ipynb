{
 "cells": [
  {
   "cell_type": "markdown",
   "metadata": {},
   "source": [
    "Question - 1 - Write a program for infix to postfix ??\n"
   ]
  },
  {
   "cell_type": "code",
   "execution_count": 13,
   "metadata": {},
   "outputs": [
    {
     "name": "stdout",
     "output_type": "stream",
     "text": [
      "Infix Expression: 3 + 4 * (2 - 1)\n",
      "Postfix Expression: 3421-*+\n"
     ]
    }
   ],
   "source": [
    "def infix_to_postfix(expression):\n",
    "    precedence = {'+': 1, '-': 1, '*': 2, '/': 2, '^': 3}\n",
    "\n",
    "    def is_operator(char):\n",
    "        return char in '+-*/^'\n",
    "\n",
    "    def higher_precedence(op1, op2):\n",
    "        return precedence[op1] >= precedence[op2]\n",
    "\n",
    "    postfix = []\n",
    "    operator_stack = []\n",
    "\n",
    "    for char in expression:\n",
    "        if char.isalnum():  # Operand\n",
    "            postfix.append(char)\n",
    "        elif char == '(':\n",
    "            operator_stack.append(char)\n",
    "        elif char == ')':\n",
    "            while operator_stack and operator_stack[-1] != '(':\n",
    "                postfix.append(operator_stack.pop())\n",
    "            operator_stack.pop()  # Pop the '('\n",
    "        elif is_operator(char):\n",
    "            while (operator_stack and operator_stack[-1] != '(' and\n",
    "                   higher_precedence(operator_stack[-1], char)):\n",
    "                postfix.append(operator_stack.pop())\n",
    "            operator_stack.append(char)\n",
    "\n",
    "    while operator_stack:\n",
    "        postfix.append(operator_stack.pop())\n",
    "\n",
    "    return ''.join(postfix)\n",
    "\n",
    "infix_expression = \"3 + 4 * (2 - 1)\"\n",
    "postfix_expression = infix_to_postfix(infix_expression)\n",
    "print(\"Infix Expression:\", infix_expression)\n",
    "print(\"Postfix Expression:\", postfix_expression)\n"
   ]
  },
  {
   "cell_type": "markdown",
   "metadata": {},
   "source": [
    "Question - 2 - Write a algorithm and draw a flowchart for the statement you are hungry for successfully complete the task of successfully complete the task of suffcing your appretite you need  to eat so you decided to cook you have to follow the series of steps to complete the task "
   ]
  },
  {
   "cell_type": "markdown",
   "metadata": {},
   "source": [
    "Answer - Attach in the git "
   ]
  },
  {
   "cell_type": "markdown",
   "metadata": {},
   "source": [
    "Question - 3 -  None of above "
   ]
  },
  {
   "cell_type": "markdown",
   "metadata": {},
   "source": [
    "Questtion - 4 - Error (c)"
   ]
  },
  {
   "cell_type": "markdown",
   "metadata": {},
   "source": [
    "Question - 5 - Error (d) semi collan Missing "
   ]
  },
  {
   "cell_type": "markdown",
   "metadata": {},
   "source": []
  }
 ],
 "metadata": {
  "kernelspec": {
   "display_name": "Python 3",
   "language": "python",
   "name": "python3"
  },
  "language_info": {
   "codemirror_mode": {
    "name": "ipython",
    "version": 3
   },
   "file_extension": ".py",
   "mimetype": "text/x-python",
   "name": "python",
   "nbconvert_exporter": "python",
   "pygments_lexer": "ipython3",
   "version": "3.11.4"
  },
  "orig_nbformat": 4
 },
 "nbformat": 4,
 "nbformat_minor": 2
}
